{
 "cells": [
  {
   "cell_type": "code",
   "execution_count": 1,
   "metadata": {},
   "outputs": [
    {
     "name": "stdout",
     "output_type": "stream",
     "text": [
      "Requirement already satisfied: lifelines in c:\\users\\rchoudhu\\anaconda3\\lib\\site-packages (0.26.4)\n",
      "Requirement already satisfied: autograd-gamma>=0.3 in c:\\users\\rchoudhu\\anaconda3\\lib\\site-packages (from lifelines) (0.5.0)\n",
      "Requirement already satisfied: autograd>=1.3 in c:\\users\\rchoudhu\\anaconda3\\lib\\site-packages (from lifelines) (1.3)\n",
      "Requirement already satisfied: formulaic<0.3,>=0.2.2 in c:\\users\\rchoudhu\\anaconda3\\lib\\site-packages (from lifelines) (0.2.4)\n",
      "Requirement already satisfied: matplotlib>=3.0 in c:\\users\\rchoudhu\\anaconda3\\lib\\site-packages (from lifelines) (3.3.2)\n",
      "Requirement already satisfied: numpy>=1.14.0 in c:\\users\\rchoudhu\\anaconda3\\lib\\site-packages (from lifelines) (1.19.2)\n",
      "Requirement already satisfied: scipy>=1.2.0 in c:\\users\\rchoudhu\\anaconda3\\lib\\site-packages (from lifelines) (1.5.2)\n",
      "Requirement already satisfied: pandas>=0.23.0 in c:\\users\\rchoudhu\\anaconda3\\lib\\site-packages (from lifelines) (1.1.3)\n",
      "Requirement already satisfied: future>=0.15.2 in c:\\users\\rchoudhu\\anaconda3\\lib\\site-packages (from autograd>=1.3->lifelines) (0.18.2)\n",
      "Requirement already satisfied: interface-meta>=1.2 in c:\\users\\rchoudhu\\anaconda3\\lib\\site-packages (from formulaic<0.3,>=0.2.2->lifelines) (1.2.4)\n",
      "Requirement already satisfied: astor in c:\\users\\rchoudhu\\anaconda3\\lib\\site-packages (from formulaic<0.3,>=0.2.2->lifelines) (0.8.1)\n",
      "Requirement already satisfied: wrapt in c:\\users\\rchoudhu\\anaconda3\\lib\\site-packages (from formulaic<0.3,>=0.2.2->lifelines) (1.11.2)\n",
      "Note: you may need to restart the kernel to use updated packages.Requirement already satisfied: certifi>=2020.06.20 in c:\\users\\rchoudhu\\anaconda3\\lib\\site-packages (from matplotlib>=3.0->lifelines) (2020.6.20)\n",
      "Requirement already satisfied: python-dateutil>=2.1 in c:\\users\\rchoudhu\\anaconda3\\lib\\site-packages (from matplotlib>=3.0->lifelines) (2.8.1)\n",
      "Requirement already satisfied: pyparsing!=2.0.4,!=2.1.2,!=2.1.6,>=2.0.3 in c:\\users\\rchoudhu\\anaconda3\\lib\\site-packages (from matplotlib>=3.0->lifelines) (2.4.7)\n",
      "Requirement already satisfied: cycler>=0.10 in c:\\users\\rchoudhu\\anaconda3\\lib\\site-packages (from matplotlib>=3.0->lifelines) (0.10.0)\n",
      "Requirement already satisfied: kiwisolver>=1.0.1 in c:\\users\\rchoudhu\\anaconda3\\lib\\site-packages (from matplotlib>=3.0->lifelines) (1.3.0)\n",
      "Requirement already satisfied: pillow>=6.2.0 in c:\\users\\rchoudhu\\anaconda3\\lib\\site-packages (from matplotlib>=3.0->lifelines) (8.0.1)\n",
      "Requirement already satisfied: pytz>=2017.2 in c:\\users\\rchoudhu\\anaconda3\\lib\\site-packages (from pandas>=0.23.0->lifelines) (2020.1)\n",
      "Requirement already satisfied: six>=1.5 in c:\\users\\rchoudhu\\anaconda3\\lib\\site-packages (from python-dateutil>=2.1->matplotlib>=3.0->lifelines) (1.15.0)\n",
      "\n"
     ]
    }
   ],
   "source": [
    "pip install lifelines"
   ]
  },
  {
   "cell_type": "code",
   "execution_count": 2,
   "metadata": {},
   "outputs": [
    {
     "name": "stdout",
     "output_type": "stream",
     "text": [
      "   donor_key         first_donation_date           max_donation_date  \\\n",
      "0      25412  2015-09-04-00.00.00.000000  2015-09-04-00.00.00.000000   \n",
      "1      39734  2015-08-14-00.00.00.000000  2019-03-01-00.00.00.000000   \n",
      "2      39736  2015-08-12-00.00.00.000000  2019-09-25-00.00.00.000000   \n",
      "3      53946  2015-07-28-00.00.00.000000  2016-04-07-00.00.00.000000   \n",
      "4      67289  2015-08-17-00.00.00.000000  2016-02-22-00.00.00.000000   \n",
      "5      71392  2015-09-19-00.00.00.000000  2018-10-12-00.00.00.000000   \n",
      "6     106586  2015-09-30-00.00.00.000000  2017-10-17-00.00.00.000000   \n",
      "7     147727  2015-07-18-00.00.00.000000  2015-07-18-00.00.00.000000   \n",
      "8     193471  2015-08-19-00.00.00.000000  2017-10-25-00.00.00.000000   \n",
      "9     273550  2015-09-04-00.00.00.000000  2016-06-30-00.00.00.000000   \n",
      "\n",
      "  donor_sex blood_type  \n",
      "0         F      O-NEG  \n",
      "1         M      O-POS  \n",
      "2         M     AB-POS  \n",
      "3         M      A-POS  \n",
      "4         F      A-POS  \n",
      "5         F      O-POS  \n",
      "6         M      O-POS  \n",
      "7         M      A-POS  \n",
      "8         F      O-NEG  \n",
      "9         F      O-NEG  \n",
      "(17710, 5)\n",
      "Number of duplicate rows: (44, 5)\n",
      "donor_key              0\n",
      "first_donation_date    0\n",
      "max_donation_date      0\n",
      "donor_sex              0\n",
      "blood_type             0\n",
      "dtype: int64\n",
      "<class 'pandas.core.frame.DataFrame'>\n",
      "Int64Index: 17622 entries, 0 to 17709\n",
      "Data columns (total 5 columns):\n",
      " #   Column               Non-Null Count  Dtype \n",
      "---  ------               --------------  ----- \n",
      " 0   donor_key            17622 non-null  int64 \n",
      " 1   first_donation_date  17622 non-null  object\n",
      " 2   max_donation_date    17622 non-null  object\n",
      " 3   donor_sex            17622 non-null  object\n",
      " 4   blood_type           17622 non-null  object\n",
      "dtypes: int64(1), object(4)\n",
      "memory usage: 826.0+ KB\n",
      "None\n",
      "O-POS     6555\n",
      "A-POS     5366\n",
      "B-POS     2145\n",
      "O-NEG     1383\n",
      "A-NEG     1018\n",
      "AB-POS     680\n",
      "B-NEG      313\n",
      "AB-NEG     109\n",
      "-           53\n",
      "Name: blood_type, dtype: int64\n",
      "0         O-NEG\n",
      "1         O-POS\n",
      "2        AB-POS\n",
      "3         A-POS\n",
      "4         A-POS\n",
      "          ...  \n",
      "17701     O-POS\n",
      "17702     A-POS\n",
      "17703     A-POS\n",
      "17704     A-POS\n",
      "17709     B-NEG\n",
      "Name: blood_type, Length: 17622, dtype: object\n"
     ]
    }
   ],
   "source": [
    "import pandas as pd\n",
    "import datetime\n",
    "from lifelines import KaplanMeierFitter\n",
    "import matplotlib.pyplot as plt\n",
    "\n",
    "\n",
    "\n",
    "if __name__ == '__main__':\n",
    "    df = pd.read_csv(r\"F:\\My Documents\\Survival Analysis Donor Data Set.csv\")\n",
    "    print(df.head(10))\n",
    "    # Check the no of datapoints and features in dataset\n",
    "    print(df.shape)\n",
    "    # Check duplicated datapoints in set\n",
    "    df_duplicate = df[df['donor_key'].duplicated() == True]\n",
    "    print('Number of duplicate rows:', df_duplicate.shape)\n",
    "    #There are 44 duplicates in the dataset\n",
    "    df.drop_duplicates(keep=False, inplace=True)\n",
    "    # Check the missing values in set\n",
    "    print(df.isna().sum())\n",
    "    # There are no null datapoints\n",
    "    print(df.info())\n",
    "    print(df[\"blood_type\"].value_counts())\n",
    "    #replace the not available blood type with the most frequent one \n",
    "    df[\"blood_type\"] = df[\"blood_type\"].apply(lambda x: \"O-POS\" if x == '-' else x)\n",
    "    print(df[\"blood_type\"])\n",
    "\n",
    "\n",
    "  \n",
    "\n",
    "\n",
    "\n",
    "\n"
   ]
  },
  {
   "cell_type": "code",
   "execution_count": 3,
   "metadata": {},
   "outputs": [
    {
     "data": {
      "text/plain": [
       "(17622, 5)"
      ]
     },
     "execution_count": 3,
     "metadata": {},
     "output_type": "execute_result"
    }
   ],
   "source": [
    "df.shape"
   ]
  },
  {
   "cell_type": "code",
   "execution_count": 4,
   "metadata": {},
   "outputs": [
    {
     "data": {
      "text/plain": [
       "F    9594\n",
       "M    8028\n",
       "Name: donor_sex, dtype: int64"
      ]
     },
     "execution_count": 4,
     "metadata": {},
     "output_type": "execute_result"
    }
   ],
   "source": [
    "df[\"donor_sex\"].value_counts()"
   ]
  },
  {
   "cell_type": "code",
   "execution_count": 5,
   "metadata": {},
   "outputs": [
    {
     "name": "stdout",
     "output_type": "stream",
     "text": [
      "F    54.443309\n",
      "M    45.556691\n",
      "Name: donor_sex, dtype: float64\n",
      "O-POS     37.498581\n",
      "A-POS     30.450573\n",
      "B-POS     12.172285\n",
      "O-NEG      7.848144\n",
      "A-NEG      5.776870\n",
      "AB-POS     3.858813\n",
      "B-NEG      1.776189\n",
      "AB-NEG     0.618545\n",
      "Name: blood_type, dtype: float64\n"
     ]
    }
   ],
   "source": [
    "#1.    Given the following data, please provide some descriptive statistics about the donor population.\n",
    "#a.    Percent by donor sex\n",
    "\n",
    "df_donor_sex = (df[\"donor_sex\"].value_counts()/ df[\"donor_sex\"].count()) * 100\n",
    "print(df_donor_sex)\n",
    "\n",
    "df_blood_type = (df[\"blood_type\"].value_counts()/ df[\"blood_type\"].count()) * 100\n",
    "print(df_blood_type)\n",
    "\n",
    "    #0-NEG_percentage = (df_blood_type [0] / (df_blood_type [0] + df_blood_type [1])) * 100\n",
    "\n",
    "#c.    Donation date time periods\n",
    "\n",
    "df['first_donation_date'] = df['first_donation_date'].apply(lambda x: datetime.datetime.strptime(x, \"%Y-%m-%d-%H.%M.%S.%f\"))\n",
    "df['first_donation_date'] = pd.to_datetime(df['first_donation_date'])\n",
    "df['max_donation_date'] = df['max_donation_date'].apply(\n",
    "        lambda x: datetime.datetime.strptime(x, \"%Y-%m-%d-%H.%M.%S.%f\"))\n",
    "df['max_donation_date'] = pd.to_datetime(df['max_donation_date'])\n",
    "    \n",
    "    \n",
    "\n",
    "def female_don_date(x):\n",
    "    \n",
    "    sum_up = 0\n",
    "    val = x.apply(lambda s: sum_up +1 if s == 'F' else 0)\n",
    "    return sum(val[0:len(val)])\n",
    "\n",
    "def male_don_date(x):\n",
    "    sum_up = 0\n",
    "    val = x.apply(lambda s: sum_up +1 if s == 'M' else 0)\n",
    "    return sum(val[0:len(val)])\n",
    "\n",
    "\n",
    "\n"
   ]
  },
  {
   "cell_type": "code",
   "execution_count": 6,
   "metadata": {},
   "outputs": [
    {
     "data": {
      "text/plain": [
       "O-POS     6608\n",
       "A-POS     5366\n",
       "B-POS     2145\n",
       "O-NEG     1383\n",
       "A-NEG     1018\n",
       "AB-POS     680\n",
       "B-NEG      313\n",
       "AB-NEG     109\n",
       "Name: blood_type, dtype: int64"
      ]
     },
     "execution_count": 6,
     "metadata": {},
     "output_type": "execute_result"
    }
   ],
   "source": [
    "df[\"blood_type\"].value_counts()"
   ]
  },
  {
   "cell_type": "code",
   "execution_count": 7,
   "metadata": {},
   "outputs": [
    {
     "data": {
      "text/html": [
       "<div>\n",
       "<style scoped>\n",
       "    .dataframe tbody tr th:only-of-type {\n",
       "        vertical-align: middle;\n",
       "    }\n",
       "\n",
       "    .dataframe tbody tr th {\n",
       "        vertical-align: top;\n",
       "    }\n",
       "\n",
       "    .dataframe thead th {\n",
       "        text-align: right;\n",
       "    }\n",
       "</style>\n",
       "<table border=\"1\" class=\"dataframe\">\n",
       "  <thead>\n",
       "    <tr style=\"text-align: right;\">\n",
       "      <th></th>\n",
       "      <th>first_donation_date</th>\n",
       "      <th>no_of_donors</th>\n",
       "    </tr>\n",
       "  </thead>\n",
       "  <tbody>\n",
       "    <tr>\n",
       "      <th>0</th>\n",
       "      <td>2015-07-31</td>\n",
       "      <td>5953</td>\n",
       "    </tr>\n",
       "    <tr>\n",
       "      <th>1</th>\n",
       "      <td>2015-08-31</td>\n",
       "      <td>5431</td>\n",
       "    </tr>\n",
       "    <tr>\n",
       "      <th>2</th>\n",
       "      <td>2015-09-30</td>\n",
       "      <td>6238</td>\n",
       "    </tr>\n",
       "  </tbody>\n",
       "</table>\n",
       "</div>"
      ],
      "text/plain": [
       "  first_donation_date  no_of_donors\n",
       "0          2015-07-31          5953\n",
       "1          2015-08-31          5431\n",
       "2          2015-09-30          6238"
      ]
     },
     "execution_count": 7,
     "metadata": {},
     "output_type": "execute_result"
    }
   ],
   "source": [
    "stats_first_donors = df.set_index('first_donation_date').groupby(pd.Grouper(freq= 'M')).agg(no_of_donors = ('donor_key', 'count')).reset_index()\n",
    "stats_first_donors"
   ]
  },
  {
   "cell_type": "code",
   "execution_count": 8,
   "metadata": {},
   "outputs": [
    {
     "data": {
      "text/html": [
       "<div>\n",
       "<style scoped>\n",
       "    .dataframe tbody tr th:only-of-type {\n",
       "        vertical-align: middle;\n",
       "    }\n",
       "\n",
       "    .dataframe tbody tr th {\n",
       "        vertical-align: top;\n",
       "    }\n",
       "\n",
       "    .dataframe thead th {\n",
       "        text-align: right;\n",
       "    }\n",
       "</style>\n",
       "<table border=\"1\" class=\"dataframe\">\n",
       "  <thead>\n",
       "    <tr style=\"text-align: right;\">\n",
       "      <th></th>\n",
       "      <th>max_donation_date</th>\n",
       "      <th>no_of_donors</th>\n",
       "    </tr>\n",
       "  </thead>\n",
       "  <tbody>\n",
       "    <tr>\n",
       "      <th>0</th>\n",
       "      <td>2015-12-31</td>\n",
       "      <td>7367</td>\n",
       "    </tr>\n",
       "    <tr>\n",
       "      <th>1</th>\n",
       "      <td>2016-12-31</td>\n",
       "      <td>2998</td>\n",
       "    </tr>\n",
       "    <tr>\n",
       "      <th>2</th>\n",
       "      <td>2017-12-31</td>\n",
       "      <td>2105</td>\n",
       "    </tr>\n",
       "    <tr>\n",
       "      <th>3</th>\n",
       "      <td>2018-12-31</td>\n",
       "      <td>2048</td>\n",
       "    </tr>\n",
       "    <tr>\n",
       "      <th>4</th>\n",
       "      <td>2019-12-31</td>\n",
       "      <td>3104</td>\n",
       "    </tr>\n",
       "  </tbody>\n",
       "</table>\n",
       "</div>"
      ],
      "text/plain": [
       "  max_donation_date  no_of_donors\n",
       "0        2015-12-31          7367\n",
       "1        2016-12-31          2998\n",
       "2        2017-12-31          2105\n",
       "3        2018-12-31          2048\n",
       "4        2019-12-31          3104"
      ]
     },
     "execution_count": 8,
     "metadata": {},
     "output_type": "execute_result"
    }
   ],
   "source": [
    "stats_last_donors = df.set_index('max_donation_date').groupby(pd.Grouper(freq= 'Y')).agg(no_of_donors = ('donor_key', 'count')).reset_index()\n",
    "stats_last_donors"
   ]
  },
  {
   "cell_type": "code",
   "execution_count": 9,
   "metadata": {},
   "outputs": [],
   "source": [
    "stats_first_don_female = df.set_index('first_donation_date').groupby(pd.Grouper(freq= 'M')).agg(no_of_female_donors = ('donor_sex', female_don_date)).reset_index()\n",
    "stats_first_don_male = df.set_index('first_donation_date').groupby(pd.Grouper(freq= 'M')).agg(no_of_male_donors = ('donor_sex', male_don_date)).reset_index()\n",
    "stats_max_don_female = df.set_index('max_donation_date').groupby(pd.Grouper(freq= 'Y')).agg(no_of_female_donors = ('donor_sex', female_don_date)).reset_index()\n",
    "stats_max_don_male = df.set_index('max_donation_date').groupby(pd.Grouper(freq= 'Y')).agg(no_of_male_donors = ('donor_sex', male_don_date)).reset_index()\n",
    "    \n",
    "    "
   ]
  },
  {
   "cell_type": "code",
   "execution_count": 10,
   "metadata": {},
   "outputs": [
    {
     "data": {
      "text/html": [
       "<div>\n",
       "<style scoped>\n",
       "    .dataframe tbody tr th:only-of-type {\n",
       "        vertical-align: middle;\n",
       "    }\n",
       "\n",
       "    .dataframe tbody tr th {\n",
       "        vertical-align: top;\n",
       "    }\n",
       "\n",
       "    .dataframe thead th {\n",
       "        text-align: right;\n",
       "    }\n",
       "</style>\n",
       "<table border=\"1\" class=\"dataframe\">\n",
       "  <thead>\n",
       "    <tr style=\"text-align: right;\">\n",
       "      <th></th>\n",
       "      <th>max_donation_date</th>\n",
       "      <th>no_of_male_donors</th>\n",
       "    </tr>\n",
       "  </thead>\n",
       "  <tbody>\n",
       "    <tr>\n",
       "      <th>0</th>\n",
       "      <td>2015-12-31</td>\n",
       "      <td>3236</td>\n",
       "    </tr>\n",
       "    <tr>\n",
       "      <th>1</th>\n",
       "      <td>2016-12-31</td>\n",
       "      <td>1382</td>\n",
       "    </tr>\n",
       "    <tr>\n",
       "      <th>2</th>\n",
       "      <td>2017-12-31</td>\n",
       "      <td>1016</td>\n",
       "    </tr>\n",
       "    <tr>\n",
       "      <th>3</th>\n",
       "      <td>2018-12-31</td>\n",
       "      <td>908</td>\n",
       "    </tr>\n",
       "    <tr>\n",
       "      <th>4</th>\n",
       "      <td>2019-12-31</td>\n",
       "      <td>1486</td>\n",
       "    </tr>\n",
       "  </tbody>\n",
       "</table>\n",
       "</div>"
      ],
      "text/plain": [
       "  max_donation_date  no_of_male_donors\n",
       "0        2015-12-31               3236\n",
       "1        2016-12-31               1382\n",
       "2        2017-12-31               1016\n",
       "3        2018-12-31                908\n",
       "4        2019-12-31               1486"
      ]
     },
     "execution_count": 10,
     "metadata": {},
     "output_type": "execute_result"
    }
   ],
   "source": [
    "stats_max_don_male"
   ]
  },
  {
   "cell_type": "code",
   "execution_count": 11,
   "metadata": {},
   "outputs": [
    {
     "data": {
      "text/html": [
       "<div>\n",
       "<style scoped>\n",
       "    .dataframe tbody tr th:only-of-type {\n",
       "        vertical-align: middle;\n",
       "    }\n",
       "\n",
       "    .dataframe tbody tr th {\n",
       "        vertical-align: top;\n",
       "    }\n",
       "\n",
       "    .dataframe thead th {\n",
       "        text-align: right;\n",
       "    }\n",
       "</style>\n",
       "<table border=\"1\" class=\"dataframe\">\n",
       "  <thead>\n",
       "    <tr style=\"text-align: right;\">\n",
       "      <th></th>\n",
       "      <th>max_donation_date</th>\n",
       "      <th>no_of_female_donors</th>\n",
       "    </tr>\n",
       "  </thead>\n",
       "  <tbody>\n",
       "    <tr>\n",
       "      <th>0</th>\n",
       "      <td>2015-12-31</td>\n",
       "      <td>4131</td>\n",
       "    </tr>\n",
       "    <tr>\n",
       "      <th>1</th>\n",
       "      <td>2016-12-31</td>\n",
       "      <td>1616</td>\n",
       "    </tr>\n",
       "    <tr>\n",
       "      <th>2</th>\n",
       "      <td>2017-12-31</td>\n",
       "      <td>1089</td>\n",
       "    </tr>\n",
       "    <tr>\n",
       "      <th>3</th>\n",
       "      <td>2018-12-31</td>\n",
       "      <td>1140</td>\n",
       "    </tr>\n",
       "    <tr>\n",
       "      <th>4</th>\n",
       "      <td>2019-12-31</td>\n",
       "      <td>1618</td>\n",
       "    </tr>\n",
       "  </tbody>\n",
       "</table>\n",
       "</div>"
      ],
      "text/plain": [
       "  max_donation_date  no_of_female_donors\n",
       "0        2015-12-31                 4131\n",
       "1        2016-12-31                 1616\n",
       "2        2017-12-31                 1089\n",
       "3        2018-12-31                 1140\n",
       "4        2019-12-31                 1618"
      ]
     },
     "execution_count": 11,
     "metadata": {},
     "output_type": "execute_result"
    }
   ],
   "source": [
    "\n",
    "stats_max_don_female"
   ]
  },
  {
   "cell_type": "code",
   "execution_count": 12,
   "metadata": {},
   "outputs": [],
   "source": [
    "def O_POS_don_date(x):\n",
    "    \n",
    "    sum_up = 0\n",
    "    val = x.apply(lambda s: sum_up +1 if s == 'O-POS' else 0)\n",
    "    return sum(val[0:len(val)])\n",
    "\n",
    "def A_POS_don_date(x):\n",
    "    \n",
    "    sum_up = 0\n",
    "    val = x.apply(lambda s: sum_up +1 if s == 'A-POS' else 0)\n",
    "    return sum(val[0:len(val)])\n",
    "def B_POS_don_date(x):\n",
    "    \n",
    "    sum_up = 0\n",
    "    val = x.apply(lambda s: sum_up +1 if s == 'B-POS' else 0)\n",
    "    return sum(val[0:len(val)])\n",
    "def A_NEG_don_date(x):\n",
    "    \n",
    "    sum_up = 0\n",
    "    val = x.apply(lambda s: sum_up +1 if s == 'O-NEG' else 0)\n",
    "    return sum(val[0:len(val)])\n",
    "def O_NEG_don_date(x):\n",
    "    \n",
    "    sum_up = 0\n",
    "    val = x.apply(lambda s: sum_up +1 if s == 'A-NEG' else 0)\n",
    "    return sum(val[0:len(val)])\n",
    "def AB_POS_don_date(x):\n",
    "    \n",
    "    sum_up = 0\n",
    "    val = x.apply(lambda s: sum_up +1 if s == 'AB-POS' else 0)\n",
    "    return sum(val[0:len(val)])\n",
    "def B_NEG_don_date(x):\n",
    "    \n",
    "    sum_up = 0\n",
    "    val = x.apply(lambda s: sum_up +1 if s == 'B-NEG' else 0)\n",
    "    return sum(val[0:len(val)])\n",
    "def AB_NEG_don_date(x):\n",
    "    \n",
    "    sum_up = 0\n",
    "    val = x.apply(lambda s: sum_up +1 if s == 'AB-NEG' else 0)\n",
    "    return sum(val[0:len(val)])"
   ]
  },
  {
   "cell_type": "code",
   "execution_count": 13,
   "metadata": {},
   "outputs": [],
   "source": [
    "stats_first_don_O_POS = df.set_index('first_donation_date').groupby(pd.Grouper(freq= 'M')).agg(no_of_O_POS_donors = ('blood_type', O_POS_don_date)).reset_index()\n",
    "stats_first_don_A_POS = df.set_index('first_donation_date').groupby(pd.Grouper(freq= 'M')).agg(no_of_A_POS_donors = ('blood_type', A_POS_don_date)).reset_index()\n",
    "stats_first_don_B_POS = df.set_index('first_donation_date').groupby(pd.Grouper(freq= 'M')).agg(no_of_B_POS_donors = ('blood_type', B_POS_don_date)).reset_index()\n",
    "stats_first_don_AB_POS = df.set_index('first_donation_date').groupby(pd.Grouper(freq= 'M')).agg(no_of_AB_POS_donors = ('blood_type', AB_POS_don_date)).reset_index()\n",
    "stats_first_don_AB_NEG = df.set_index('first_donation_date').groupby(pd.Grouper(freq= 'M')).agg(no_of_AB_NEG_donors = ('blood_type', AB_NEG_don_date)).reset_index()\n",
    "stats_first_don_B_NEG = df.set_index('first_donation_date').groupby(pd.Grouper(freq= 'M')).agg(no_of_B_NEG_donors = ('blood_type', B_NEG_don_date)).reset_index()\n",
    "stats_first_don_O_NEG = df.set_index('first_donation_date').groupby(pd.Grouper(freq= 'M')).agg(no_of_O_NEG_donors = ('blood_type', O_NEG_don_date)).reset_index()\n",
    "stats_first_don_A_NEG = df.set_index('first_donation_date').groupby(pd.Grouper(freq= 'M')).agg(no_of_A_NEG_donors = ('blood_type', A_NEG_don_date)).reset_index()"
   ]
  },
  {
   "cell_type": "code",
   "execution_count": 14,
   "metadata": {},
   "outputs": [
    {
     "data": {
      "text/html": [
       "<div>\n",
       "<style scoped>\n",
       "    .dataframe tbody tr th:only-of-type {\n",
       "        vertical-align: middle;\n",
       "    }\n",
       "\n",
       "    .dataframe tbody tr th {\n",
       "        vertical-align: top;\n",
       "    }\n",
       "\n",
       "    .dataframe thead th {\n",
       "        text-align: right;\n",
       "    }\n",
       "</style>\n",
       "<table border=\"1\" class=\"dataframe\">\n",
       "  <thead>\n",
       "    <tr style=\"text-align: right;\">\n",
       "      <th></th>\n",
       "      <th>first_donation_date</th>\n",
       "      <th>no_of_A_POS_donors</th>\n",
       "    </tr>\n",
       "  </thead>\n",
       "  <tbody>\n",
       "    <tr>\n",
       "      <th>0</th>\n",
       "      <td>2015-07-31</td>\n",
       "      <td>1775</td>\n",
       "    </tr>\n",
       "    <tr>\n",
       "      <th>1</th>\n",
       "      <td>2015-08-31</td>\n",
       "      <td>1662</td>\n",
       "    </tr>\n",
       "    <tr>\n",
       "      <th>2</th>\n",
       "      <td>2015-09-30</td>\n",
       "      <td>1929</td>\n",
       "    </tr>\n",
       "  </tbody>\n",
       "</table>\n",
       "</div>"
      ],
      "text/plain": [
       "  first_donation_date  no_of_A_POS_donors\n",
       "0          2015-07-31                1775\n",
       "1          2015-08-31                1662\n",
       "2          2015-09-30                1929"
      ]
     },
     "execution_count": 14,
     "metadata": {},
     "output_type": "execute_result"
    }
   ],
   "source": [
    "stats_first_don_A_POS"
   ]
  },
  {
   "cell_type": "code",
   "execution_count": 15,
   "metadata": {},
   "outputs": [],
   "source": [
    "data_frames = [stats_first_don_O_POS, stats_first_don_A_POS, stats_first_don_B_POS, stats_first_don_AB_POS, stats_first_don_AB_NEG, stats_first_don_B_NEG,stats_first_don_O_NEG, stats_first_don_A_NEG]"
   ]
  },
  {
   "cell_type": "code",
   "execution_count": 16,
   "metadata": {},
   "outputs": [],
   "source": [
    "from functools import reduce \n"
   ]
  },
  {
   "cell_type": "code",
   "execution_count": 17,
   "metadata": {},
   "outputs": [],
   "source": [
    "df_merged = reduce(lambda  left,right: pd.merge(left,right,on=['first_donation_date'],\n",
    "                                            how='outer'), data_frames).fillna('void')\n"
   ]
  },
  {
   "cell_type": "code",
   "execution_count": 18,
   "metadata": {},
   "outputs": [
    {
     "data": {
      "text/html": [
       "<div>\n",
       "<style scoped>\n",
       "    .dataframe tbody tr th:only-of-type {\n",
       "        vertical-align: middle;\n",
       "    }\n",
       "\n",
       "    .dataframe tbody tr th {\n",
       "        vertical-align: top;\n",
       "    }\n",
       "\n",
       "    .dataframe thead th {\n",
       "        text-align: right;\n",
       "    }\n",
       "</style>\n",
       "<table border=\"1\" class=\"dataframe\">\n",
       "  <thead>\n",
       "    <tr style=\"text-align: right;\">\n",
       "      <th></th>\n",
       "      <th>first_donation_date</th>\n",
       "      <th>no_of_O_POS_donors</th>\n",
       "      <th>no_of_A_POS_donors</th>\n",
       "      <th>no_of_B_POS_donors</th>\n",
       "      <th>no_of_AB_POS_donors</th>\n",
       "      <th>no_of_AB_NEG_donors</th>\n",
       "      <th>no_of_B_NEG_donors</th>\n",
       "      <th>no_of_O_NEG_donors</th>\n",
       "      <th>no_of_A_NEG_donors</th>\n",
       "    </tr>\n",
       "  </thead>\n",
       "  <tbody>\n",
       "    <tr>\n",
       "      <th>0</th>\n",
       "      <td>2015-07-31</td>\n",
       "      <td>2213</td>\n",
       "      <td>1775</td>\n",
       "      <td>758</td>\n",
       "      <td>216</td>\n",
       "      <td>41</td>\n",
       "      <td>117</td>\n",
       "      <td>358</td>\n",
       "      <td>475</td>\n",
       "    </tr>\n",
       "    <tr>\n",
       "      <th>1</th>\n",
       "      <td>2015-08-31</td>\n",
       "      <td>2041</td>\n",
       "      <td>1662</td>\n",
       "      <td>624</td>\n",
       "      <td>223</td>\n",
       "      <td>32</td>\n",
       "      <td>85</td>\n",
       "      <td>311</td>\n",
       "      <td>453</td>\n",
       "    </tr>\n",
       "    <tr>\n",
       "      <th>2</th>\n",
       "      <td>2015-09-30</td>\n",
       "      <td>2354</td>\n",
       "      <td>1929</td>\n",
       "      <td>763</td>\n",
       "      <td>241</td>\n",
       "      <td>36</td>\n",
       "      <td>111</td>\n",
       "      <td>349</td>\n",
       "      <td>455</td>\n",
       "    </tr>\n",
       "  </tbody>\n",
       "</table>\n",
       "</div>"
      ],
      "text/plain": [
       "  first_donation_date  no_of_O_POS_donors  no_of_A_POS_donors  \\\n",
       "0          2015-07-31                2213                1775   \n",
       "1          2015-08-31                2041                1662   \n",
       "2          2015-09-30                2354                1929   \n",
       "\n",
       "   no_of_B_POS_donors  no_of_AB_POS_donors  no_of_AB_NEG_donors  \\\n",
       "0                 758                  216                   41   \n",
       "1                 624                  223                   32   \n",
       "2                 763                  241                   36   \n",
       "\n",
       "   no_of_B_NEG_donors  no_of_O_NEG_donors  no_of_A_NEG_donors  \n",
       "0                 117                 358                 475  \n",
       "1                  85                 311                 453  \n",
       "2                 111                 349                 455  "
      ]
     },
     "execution_count": 18,
     "metadata": {},
     "output_type": "execute_result"
    }
   ],
   "source": [
    "df_merged"
   ]
  },
  {
   "cell_type": "code",
   "execution_count": 19,
   "metadata": {},
   "outputs": [],
   "source": [
    "features = df_merged.columns.tolist()\n",
    "features.remove(\"first_donation_date\")"
   ]
  },
  {
   "cell_type": "code",
   "execution_count": 20,
   "metadata": {},
   "outputs": [
    {
     "data": {
      "text/plain": [
       "<AxesSubplot:xlabel='first_donation_date'>"
      ]
     },
     "execution_count": 20,
     "metadata": {},
     "output_type": "execute_result"
    },
    {
     "data": {
      "image/png": "[encoded data removed]",
      "text/plain": [
       "<Figure size 432x288 with 1 Axes>"
      ]
     },
     "metadata": {
      "needs_background": "light"
     },
     "output_type": "display_data"
    }
   ],
   "source": [
    "df_merged.plot(x=\"first_donation_date\", y= features, kind=\"bar\")"
   ]
  },
  {
   "cell_type": "code",
   "execution_count": 21,
   "metadata": {},
   "outputs": [],
   "source": [
    "stats_last_don_O_POS = df.set_index('max_donation_date').groupby(pd.Grouper(freq= 'Y')).agg(no_of_O_POS_donors = ('blood_type', O_POS_don_date)).reset_index()\n",
    "stats_last_don_A_POS = df.set_index('max_donation_date').groupby(pd.Grouper(freq= 'Y')).agg(no_of_A_POS_donors = ('blood_type', A_POS_don_date)).reset_index()\n",
    "stats_last_don_B_POS = df.set_index('max_donation_date').groupby(pd.Grouper(freq= 'Y')).agg(no_of_B_POS_donors = ('blood_type', B_POS_don_date)).reset_index()\n",
    "stats_last_don_AB_POS = df.set_index('max_donation_date').groupby(pd.Grouper(freq= 'Y')).agg(no_of_AB_POS_donors = ('blood_type', AB_POS_don_date)).reset_index()\n",
    "stats_last_don_AB_NEG = df.set_index('max_donation_date').groupby(pd.Grouper(freq= 'Y')).agg(no_of_AB_NEG_donors = ('blood_type', AB_NEG_don_date)).reset_index()\n",
    "stats_last_don_B_NEG = df.set_index('max_donation_date').groupby(pd.Grouper(freq= 'Y')).agg(no_of_B_NEG_donors = ('blood_type', B_NEG_don_date)).reset_index()\n",
    "stats_last_don_O_NEG = df.set_index('max_donation_date').groupby(pd.Grouper(freq= 'Y')).agg(no_of_O_NEG_donors = ('blood_type', O_NEG_don_date)).reset_index()\n",
    "stats_last_don_A_NEG = df.set_index('max_donation_date').groupby(pd.Grouper(freq= 'Y')).agg(no_of_A_NEG_donors = ('blood_type', A_NEG_don_date)).reset_index()"
   ]
  },
  {
   "cell_type": "code",
   "execution_count": 22,
   "metadata": {},
   "outputs": [],
   "source": [
    "data_frames_2 = [stats_last_don_O_POS, stats_last_don_A_POS, stats_last_don_B_POS, stats_last_don_AB_POS, stats_last_don_AB_NEG, stats_last_don_B_NEG,stats_last_don_O_NEG, stats_last_don_A_NEG]"
   ]
  },
  {
   "cell_type": "code",
   "execution_count": 23,
   "metadata": {},
   "outputs": [],
   "source": [
    "df_merged_2 = reduce(lambda  left,right: pd.merge(left,right,on=['max_donation_date'],\n",
    "                                            how='outer'), data_frames_2).fillna('void')\n"
   ]
  },
  {
   "cell_type": "code",
   "execution_count": 24,
   "metadata": {},
   "outputs": [
    {
     "data": {
      "text/plain": [
       "<AxesSubplot:xlabel='max_donation_date'>"
      ]
     },
     "execution_count": 24,
     "metadata": {},
     "output_type": "execute_result"
    },
    {
     "data": {
      "image/png": "[encoded data removed]",
      "text/plain": [
       "<Figure size 432x288 with 1 Axes>"
      ]
     },
     "metadata": {
      "needs_background": "light"
     },
     "output_type": "display_data"
    }
   ],
   "source": [
    "df_merged_2.plot(x=\"max_donation_date\", y= features, kind=\"bar\")"
   ]
  },
  {
   "cell_type": "code",
   "execution_count": 25,
   "metadata": {},
   "outputs": [
    {
     "name": "stdout",
     "output_type": "stream",
     "text": [
      "   donor_key first_donation_date max_donation_date donor_sex blood_type  \\\n",
      "0      25412          2015-09-04        2015-09-04         F      O-NEG   \n",
      "1      39734          2015-08-14        2019-03-01         M      O-POS   \n",
      "2      39736          2015-08-12        2019-09-25         M     AB-POS   \n",
      "3      53946          2015-07-28        2016-04-07         M      A-POS   \n",
      "4      67289          2015-08-17        2016-02-22         F      A-POS   \n",
      "5      71392          2015-09-19        2018-10-12         F      O-POS   \n",
      "6     106586          2015-09-30        2017-10-17         M      O-POS   \n",
      "7     147727          2015-07-18        2015-07-18         M      A-POS   \n",
      "8     193471          2015-08-19        2017-10-25         F      O-NEG   \n",
      "9     273550          2015-09-04        2016-06-30         F      O-NEG   \n",
      "\n",
      "   survival_time  \n",
      "0              0  \n",
      "1           1295  \n",
      "2           1505  \n",
      "3            254  \n",
      "4            189  \n",
      "5           1119  \n",
      "6            748  \n",
      "7              0  \n",
      "8            798  \n",
      "9            300  \n",
      "   donor_key first_donation_date max_donation_date donor_sex blood_type  \\\n",
      "0      25412          2015-09-04        2015-09-04         F      O-NEG   \n",
      "1      39734          2015-08-14        2019-03-01         M      O-POS   \n",
      "2      39736          2015-08-12        2019-09-25         M     AB-POS   \n",
      "3      53946          2015-07-28        2016-04-07         M      A-POS   \n",
      "4      67289          2015-08-17        2016-02-22         F      A-POS   \n",
      "5      71392          2015-09-19        2018-10-12         F      O-POS   \n",
      "6     106586          2015-09-30        2017-10-17         M      O-POS   \n",
      "7     147727          2015-07-18        2015-07-18         M      A-POS   \n",
      "8     193471          2015-08-19        2017-10-25         F      O-NEG   \n",
      "9     273550          2015-09-04        2016-06-30         F      O-NEG   \n",
      "\n",
      "   survival_time  survival_status  \n",
      "0              0                0  \n",
      "1           1295                1  \n",
      "2           1505                1  \n",
      "3            254                1  \n",
      "4            189                1  \n",
      "5           1119                1  \n",
      "6            748                1  \n",
      "7              0                0  \n",
      "8            798                1  \n",
      "9            300                1  \n"
     ]
    }
   ],
   "source": [
    "\n",
    "\n",
    "    #2. 2. Compute the survival time (in days) for each donor\n",
    "    #a.    Survival time = max donations date – first donation date\n",
    "\n",
    "    df['survival_time'] = df['max_donation_date'] - df['first_donation_date']\n",
    "    df['survival_time'] = df['survival_time'].astype(str).str.replace(\"days\",\"\")\n",
    "    df['survival_time'] = df['survival_time'].astype(int)\n",
    "    print(df.head(10))\n",
    "    print\n",
    "    df['survival_status'] = df['survival_time'].apply(lambda x : 1 if x >0 else 0)\n",
    "    print(df.head(10))\n",
    "    \n",
    "    #durations = data['survival_time']\n",
    "    #event_observed = data['survival_status']\n",
    "\n",
    "    \n",
    "    #fig = px.line(df, x = 'donor_key', y = \"survival_time\", title= \"survival_curve\")\n",
    "    #fig.show()"
   ]
  },
  {
   "cell_type": "code",
   "execution_count": 26,
   "metadata": {},
   "outputs": [],
   "source": [
    "data = df.copy()"
   ]
  },
  {
   "cell_type": "code",
   "execution_count": 27,
   "metadata": {},
   "outputs": [
    {
     "data": {
      "text/plain": [
       "Text(0.5, 1.0, 'KMF')"
      ]
     },
     "execution_count": 27,
     "metadata": {},
     "output_type": "execute_result"
    },
    {
     "data": {
      "image/png": "[encoded data removed]",
      "text/plain": [
       "<Figure size 432x288 with 1 Axes>"
      ]
     },
     "metadata": {
      "needs_background": "light"
     },
     "output_type": "display_data"
    }
   ],
   "source": [
    "kmf_m = KaplanMeierFitter()\n",
    "kmf_f = KaplanMeierFitter()\n",
    "Male = data.query(\"donor_sex == 'M'\")\n",
    "Female = data.query(\"donor_sex == 'F'\")\n",
    "kmf_m.fit(durations = Male[\"survival_time\"], event_observed = Male[\"survival_status\"], label = \"Male\")\n",
    "kmf_f.fit(durations = Female[\"survival_time\"], event_observed = Female[\"survival_status\"], label = \"Female\")\n",
    "kmf_m.plot()\n",
    "kmf_f.plot()\n",
    "plt.xlabel(\"Survival Time\")\n",
    "plt.ylabel(\"Survival probability\")\n",
    "plt.title(\"KMF\")"
   ]
  },
  {
   "cell_type": "code",
   "execution_count": 28,
   "metadata": {},
   "outputs": [
    {
     "data": {
      "text/plain": [
       "0.38746279761904734"
      ]
     },
     "execution_count": 28,
     "metadata": {},
     "output_type": "execute_result"
    }
   ],
   "source": [
    "kmf_m.event_table\n",
    "kmf_m.predict(1000)\n"
   ]
  },
  {
   "cell_type": "code",
   "execution_count": 29,
   "metadata": {},
   "outputs": [
    {
     "data": {
      "text/html": [
       "<div>\n",
       "<style scoped>\n",
       "    .dataframe tbody tr th:only-of-type {\n",
       "        vertical-align: middle;\n",
       "    }\n",
       "\n",
       "    .dataframe tbody tr th {\n",
       "        vertical-align: top;\n",
       "    }\n",
       "\n",
       "    .dataframe thead th {\n",
       "        text-align: right;\n",
       "    }\n",
       "</style>\n",
       "<table border=\"1\" class=\"dataframe\">\n",
       "  <thead>\n",
       "    <tr style=\"text-align: right;\">\n",
       "      <th></th>\n",
       "      <th>Male</th>\n",
       "    </tr>\n",
       "    <tr>\n",
       "      <th>timeline</th>\n",
       "      <th></th>\n",
       "    </tr>\n",
       "  </thead>\n",
       "  <tbody>\n",
       "    <tr>\n",
       "      <th>0.0</th>\n",
       "      <td>1.000000</td>\n",
       "    </tr>\n",
       "    <tr>\n",
       "      <th>56.0</th>\n",
       "      <td>0.980283</td>\n",
       "    </tr>\n",
       "    <tr>\n",
       "      <th>57.0</th>\n",
       "      <td>0.978423</td>\n",
       "    </tr>\n",
       "    <tr>\n",
       "      <th>58.0</th>\n",
       "      <td>0.977493</td>\n",
       "    </tr>\n",
       "    <tr>\n",
       "      <th>59.0</th>\n",
       "      <td>0.976004</td>\n",
       "    </tr>\n",
       "    <tr>\n",
       "      <th>...</th>\n",
       "      <td>...</td>\n",
       "    </tr>\n",
       "    <tr>\n",
       "      <th>1548.0</th>\n",
       "      <td>0.001116</td>\n",
       "    </tr>\n",
       "    <tr>\n",
       "      <th>1549.0</th>\n",
       "      <td>0.000744</td>\n",
       "    </tr>\n",
       "    <tr>\n",
       "      <th>1550.0</th>\n",
       "      <td>0.000558</td>\n",
       "    </tr>\n",
       "    <tr>\n",
       "      <th>1554.0</th>\n",
       "      <td>0.000186</td>\n",
       "    </tr>\n",
       "    <tr>\n",
       "      <th>1555.0</th>\n",
       "      <td>0.000000</td>\n",
       "    </tr>\n",
       "  </tbody>\n",
       "</table>\n",
       "<p>1341 rows × 1 columns</p>\n",
       "</div>"
      ],
      "text/plain": [
       "              Male\n",
       "timeline          \n",
       "0.0       1.000000\n",
       "56.0      0.980283\n",
       "57.0      0.978423\n",
       "58.0      0.977493\n",
       "59.0      0.976004\n",
       "...            ...\n",
       "1548.0    0.001116\n",
       "1549.0    0.000744\n",
       "1550.0    0.000558\n",
       "1554.0    0.000186\n",
       "1555.0    0.000000\n",
       "\n",
       "[1341 rows x 1 columns]"
      ]
     },
     "execution_count": 29,
     "metadata": {},
     "output_type": "execute_result"
    }
   ],
   "source": [
    "kmf_m.survival_function_"
   ]
  },
  {
   "cell_type": "code",
   "execution_count": 30,
   "metadata": {},
   "outputs": [],
   "source": [
    "d1 = kmf_f.event_table"
   ]
  },
  {
   "cell_type": "code",
   "execution_count": 31,
   "metadata": {},
   "outputs": [
    {
     "data": {
      "text/html": [
       "<div>\n",
       "<style scoped>\n",
       "    .dataframe tbody tr th:only-of-type {\n",
       "        vertical-align: middle;\n",
       "    }\n",
       "\n",
       "    .dataframe tbody tr th {\n",
       "        vertical-align: top;\n",
       "    }\n",
       "\n",
       "    .dataframe thead th {\n",
       "        text-align: right;\n",
       "    }\n",
       "</style>\n",
       "<table border=\"1\" class=\"dataframe\">\n",
       "  <thead>\n",
       "    <tr style=\"text-align: right;\">\n",
       "      <th></th>\n",
       "      <th>Male</th>\n",
       "    </tr>\n",
       "    <tr>\n",
       "      <th>timeline</th>\n",
       "      <th></th>\n",
       "    </tr>\n",
       "  </thead>\n",
       "  <tbody>\n",
       "    <tr>\n",
       "      <th>0.0</th>\n",
       "      <td>1.000000</td>\n",
       "    </tr>\n",
       "    <tr>\n",
       "      <th>56.0</th>\n",
       "      <td>0.980283</td>\n",
       "    </tr>\n",
       "    <tr>\n",
       "      <th>57.0</th>\n",
       "      <td>0.978423</td>\n",
       "    </tr>\n",
       "    <tr>\n",
       "      <th>58.0</th>\n",
       "      <td>0.977493</td>\n",
       "    </tr>\n",
       "    <tr>\n",
       "      <th>59.0</th>\n",
       "      <td>0.976004</td>\n",
       "    </tr>\n",
       "    <tr>\n",
       "      <th>...</th>\n",
       "      <td>...</td>\n",
       "    </tr>\n",
       "    <tr>\n",
       "      <th>1548.0</th>\n",
       "      <td>0.001116</td>\n",
       "    </tr>\n",
       "    <tr>\n",
       "      <th>1549.0</th>\n",
       "      <td>0.000744</td>\n",
       "    </tr>\n",
       "    <tr>\n",
       "      <th>1550.0</th>\n",
       "      <td>0.000558</td>\n",
       "    </tr>\n",
       "    <tr>\n",
       "      <th>1554.0</th>\n",
       "      <td>0.000186</td>\n",
       "    </tr>\n",
       "    <tr>\n",
       "      <th>1555.0</th>\n",
       "      <td>0.000000</td>\n",
       "    </tr>\n",
       "  </tbody>\n",
       "</table>\n",
       "<p>1341 rows × 1 columns</p>\n",
       "</div>"
      ],
      "text/plain": [
       "              Male\n",
       "timeline          \n",
       "0.0       1.000000\n",
       "56.0      0.980283\n",
       "57.0      0.978423\n",
       "58.0      0.977493\n",
       "59.0      0.976004\n",
       "...            ...\n",
       "1548.0    0.001116\n",
       "1549.0    0.000744\n",
       "1550.0    0.000558\n",
       "1554.0    0.000186\n",
       "1555.0    0.000000\n",
       "\n",
       "[1341 rows x 1 columns]"
      ]
     },
     "execution_count": 31,
     "metadata": {},
     "output_type": "execute_result"
    }
   ],
   "source": [
    "kmf_m.survival_function_"
   ]
  },
  {
   "cell_type": "code",
   "execution_count": 32,
   "metadata": {},
   "outputs": [
    {
     "data": {
      "text/plain": [
       "0.38746279761904734"
      ]
     },
     "execution_count": 32,
     "metadata": {},
     "output_type": "execute_result"
    }
   ],
   "source": [
    "kmf_m.predict(1000)"
   ]
  },
  {
   "cell_type": "code",
   "execution_count": 33,
   "metadata": {},
   "outputs": [
    {
     "data": {
      "text/plain": [
       "O-POS     6608\n",
       "A-POS     5366\n",
       "B-POS     2145\n",
       "O-NEG     1383\n",
       "A-NEG     1018\n",
       "AB-POS     680\n",
       "B-NEG      313\n",
       "AB-NEG     109\n",
       "Name: blood_type, dtype: int64"
      ]
     },
     "execution_count": 33,
     "metadata": {},
     "output_type": "execute_result"
    }
   ],
   "source": [
    "data[\"blood_type\"].value_counts()"
   ]
  },
  {
   "cell_type": "code",
   "execution_count": 34,
   "metadata": {},
   "outputs": [
    {
     "data": {
      "text/plain": [
       "Text(0.5, 1.0, 'KMF')"
      ]
     },
     "execution_count": 34,
     "metadata": {},
     "output_type": "execute_result"
    },
    {
     "data": {
      "image/png": "[encoded data removed]",
      "text/plain": [
       "<Figure size 1440x432 with 1 Axes>"
      ]
     },
     "metadata": {
      "needs_background": "light"
     },
     "output_type": "display_data"
    }
   ],
   "source": [
    "kmf_O_POS = KaplanMeierFitter()\n",
    "kmf_A_POS = KaplanMeierFitter()\n",
    "kmf_B_POS = KaplanMeierFitter()\n",
    "kmf_O_NEG = KaplanMeierFitter()\n",
    "kmf_A_NEG = KaplanMeierFitter()\n",
    "kmf_AB_POS = KaplanMeierFitter()\n",
    "kmf_B_NEG = KaplanMeierFitter()\n",
    "kmf_AB_NEG = KaplanMeierFitter()\n",
    "\n",
    "\n",
    "O_POS = data.query(\"blood_type == 'O-POS'\")\n",
    "A_POS = data.query(\"blood_type == 'A-POS'\")\n",
    "B_POS = data.query(\"blood_type == 'B-POS'\")\n",
    "O_NEG = data.query(\"blood_type == 'O-NEG'\")\n",
    "A_NEG = data.query(\"blood_type == 'A-NEG'\")\n",
    "AB_POS = data.query(\"blood_type == 'AB-POS'\")\n",
    "B_NEG = data.query(\"blood_type == 'B-NEG'\")\n",
    "AB_NEG = data.query(\"blood_type == 'AB-NEG'\")\n",
    "\n",
    "kmf_O_POS.fit(durations = O_POS[\"survival_time\"], event_observed = O_POS[\"survival_status\"], label = \"O-POS\")\n",
    "kmf_A_POS.fit(durations = A_POS[\"survival_time\"], event_observed = A_POS[\"survival_status\"], label = \"A-POS\")\n",
    "kmf_B_POS.fit(durations = B_POS[\"survival_time\"], event_observed = B_POS[\"survival_status\"], label = \"B-POS\")\n",
    "kmf_O_NEG.fit(durations = O_NEG[\"survival_time\"], event_observed = O_NEG[\"survival_status\"], label = \"O-NEG\")\n",
    "kmf_A_NEG.fit(durations = A_NEG[\"survival_time\"], event_observed = A_NEG[\"survival_status\"], label = \"A-NEG\")\n",
    "kmf_AB_POS.fit(durations = AB_POS[\"survival_time\"], event_observed = AB_POS[\"survival_status\"], label = \"AB-POS\")\n",
    "kmf_B_NEG.fit(durations = B_NEG[\"survival_time\"], event_observed = B_NEG[\"survival_status\"], label = \"B-NEG\")\n",
    "kmf_AB_NEG.fit(durations = AB_NEG[\"survival_time\"], event_observed = AB_NEG[\"survival_status\"], label = \"AB-NEG\")\n",
    "\n",
    "kmf_O_POS.plot(figsize=(20, 6))\n",
    "kmf_A_POS.plot()\n",
    "kmf_B_POS.plot()\n",
    "kmf_O_NEG.plot()\n",
    "kmf_A_NEG.plot()\n",
    "kmf_AB_POS.plot()\n",
    "kmf_B_NEG.plot()\n",
    "kmf_AB_NEG.plot()\n",
    "\n",
    "plt.xlabel(\"Survival Time\")\n",
    "plt.ylabel(\"Survival probability\")\n",
    "plt.title(\"KMF\")"
   ]
  },
  {
   "cell_type": "code",
   "execution_count": 35,
   "metadata": {},
   "outputs": [
    {
     "data": {
      "text/plain": [
       "0.40054807033569323"
      ]
     },
     "execution_count": 35,
     "metadata": {},
     "output_type": "execute_result"
    }
   ],
   "source": [
    "kmf_O_POS.predict(1000)\n"
   ]
  },
  {
   "cell_type": "code",
   "execution_count": 36,
   "metadata": {},
   "outputs": [
    {
     "data": {
      "text/plain": [
       "0.3657964212378997"
      ]
     },
     "execution_count": 36,
     "metadata": {},
     "output_type": "execute_result"
    }
   ],
   "source": [
    "kmf_A_POS.predict(1000)\n"
   ]
  },
  {
   "cell_type": "code",
   "execution_count": 37,
   "metadata": {},
   "outputs": [
    {
     "data": {
      "text/plain": [
       "0.3382679496669135"
      ]
     },
     "execution_count": 37,
     "metadata": {},
     "output_type": "execute_result"
    }
   ],
   "source": [
    "kmf_B_POS.predict(1000)\n"
   ]
  },
  {
   "cell_type": "code",
   "execution_count": 38,
   "metadata": {},
   "outputs": [
    {
     "data": {
      "text/plain": [
       "0.46132075471698125"
      ]
     },
     "execution_count": 38,
     "metadata": {},
     "output_type": "execute_result"
    }
   ],
   "source": [
    "kmf_O_NEG.predict(1000)\n"
   ]
  },
  {
   "cell_type": "code",
   "execution_count": 39,
   "metadata": {},
   "outputs": [
    {
     "data": {
      "text/plain": [
       "0.425655976676385"
      ]
     },
     "execution_count": 39,
     "metadata": {},
     "output_type": "execute_result"
    }
   ],
   "source": [
    "kmf_A_NEG.predict(1000)\n"
   ]
  },
  {
   "cell_type": "code",
   "execution_count": 40,
   "metadata": {},
   "outputs": [
    {
     "data": {
      "text/plain": [
       "0.2971576227390181"
      ]
     },
     "execution_count": 40,
     "metadata": {},
     "output_type": "execute_result"
    }
   ],
   "source": [
    "kmf_AB_POS.predict(1000)\n"
   ]
  },
  {
   "cell_type": "code",
   "execution_count": 41,
   "metadata": {},
   "outputs": [
    {
     "data": {
      "text/plain": [
       "0.367713004484305"
      ]
     },
     "execution_count": 41,
     "metadata": {},
     "output_type": "execute_result"
    }
   ],
   "source": [
    "kmf_B_NEG.predict(1000)\n"
   ]
  },
  {
   "cell_type": "code",
   "execution_count": 42,
   "metadata": {},
   "outputs": [
    {
     "data": {
      "text/plain": [
       "0.37681159420289845"
      ]
     },
     "execution_count": 42,
     "metadata": {},
     "output_type": "execute_result"
    }
   ],
   "source": [
    "kmf_AB_NEG.predict(1000)"
   ]
  },
  {
   "cell_type": "code",
   "execution_count": 43,
   "metadata": {},
   "outputs": [
    {
     "data": {
      "text/html": [
       "<div>\n",
       "<style scoped>\n",
       "    .dataframe tbody tr th:only-of-type {\n",
       "        vertical-align: middle;\n",
       "    }\n",
       "\n",
       "    .dataframe tbody tr th {\n",
       "        vertical-align: top;\n",
       "    }\n",
       "\n",
       "    .dataframe thead th {\n",
       "        text-align: right;\n",
       "    }\n",
       "</style>\n",
       "<table border=\"1\" class=\"dataframe\">\n",
       "  <thead>\n",
       "    <tr style=\"text-align: right;\">\n",
       "      <th></th>\n",
       "      <th>removed</th>\n",
       "      <th>observed</th>\n",
       "      <th>censored</th>\n",
       "      <th>entrance</th>\n",
       "      <th>at_risk</th>\n",
       "    </tr>\n",
       "    <tr>\n",
       "      <th>event_at</th>\n",
       "      <th></th>\n",
       "      <th></th>\n",
       "      <th></th>\n",
       "      <th></th>\n",
       "      <th></th>\n",
       "    </tr>\n",
       "  </thead>\n",
       "  <tbody>\n",
       "    <tr>\n",
       "      <th>0</th>\n",
       "      <td>1957</td>\n",
       "      <td>0</td>\n",
       "      <td>1957</td>\n",
       "      <td>5366</td>\n",
       "      <td>5366</td>\n",
       "    </tr>\n",
       "    <tr>\n",
       "      <th>56</th>\n",
       "      <td>67</td>\n",
       "      <td>67</td>\n",
       "      <td>0</td>\n",
       "      <td>0</td>\n",
       "      <td>3409</td>\n",
       "    </tr>\n",
       "    <tr>\n",
       "      <th>57</th>\n",
       "      <td>10</td>\n",
       "      <td>10</td>\n",
       "      <td>0</td>\n",
       "      <td>0</td>\n",
       "      <td>3342</td>\n",
       "    </tr>\n",
       "    <tr>\n",
       "      <th>58</th>\n",
       "      <td>5</td>\n",
       "      <td>5</td>\n",
       "      <td>0</td>\n",
       "      <td>0</td>\n",
       "      <td>3332</td>\n",
       "    </tr>\n",
       "    <tr>\n",
       "      <th>59</th>\n",
       "      <td>2</td>\n",
       "      <td>2</td>\n",
       "      <td>0</td>\n",
       "      <td>0</td>\n",
       "      <td>3327</td>\n",
       "    </tr>\n",
       "    <tr>\n",
       "      <th>...</th>\n",
       "      <td>...</td>\n",
       "      <td>...</td>\n",
       "      <td>...</td>\n",
       "      <td>...</td>\n",
       "      <td>...</td>\n",
       "    </tr>\n",
       "    <tr>\n",
       "      <th>1542</th>\n",
       "      <td>1</td>\n",
       "      <td>1</td>\n",
       "      <td>0</td>\n",
       "      <td>0</td>\n",
       "      <td>7</td>\n",
       "    </tr>\n",
       "    <tr>\n",
       "      <th>1547</th>\n",
       "      <td>3</td>\n",
       "      <td>3</td>\n",
       "      <td>0</td>\n",
       "      <td>0</td>\n",
       "      <td>6</td>\n",
       "    </tr>\n",
       "    <tr>\n",
       "      <th>1548</th>\n",
       "      <td>1</td>\n",
       "      <td>1</td>\n",
       "      <td>0</td>\n",
       "      <td>0</td>\n",
       "      <td>3</td>\n",
       "    </tr>\n",
       "    <tr>\n",
       "      <th>1549</th>\n",
       "      <td>1</td>\n",
       "      <td>1</td>\n",
       "      <td>0</td>\n",
       "      <td>0</td>\n",
       "      <td>2</td>\n",
       "    </tr>\n",
       "    <tr>\n",
       "      <th>1554</th>\n",
       "      <td>1</td>\n",
       "      <td>1</td>\n",
       "      <td>0</td>\n",
       "      <td>0</td>\n",
       "      <td>1</td>\n",
       "    </tr>\n",
       "  </tbody>\n",
       "</table>\n",
       "<p>1179 rows × 5 columns</p>\n",
       "</div>"
      ],
      "text/plain": [
       "          removed  observed  censored  entrance  at_risk\n",
       "event_at                                                \n",
       "0            1957         0      1957      5366     5366\n",
       "56             67        67         0         0     3409\n",
       "57             10        10         0         0     3342\n",
       "58              5         5         0         0     3332\n",
       "59              2         2         0         0     3327\n",
       "...           ...       ...       ...       ...      ...\n",
       "1542            1         1         0         0        7\n",
       "1547            3         3         0         0        6\n",
       "1548            1         1         0         0        3\n",
       "1549            1         1         0         0        2\n",
       "1554            1         1         0         0        1\n",
       "\n",
       "[1179 rows x 5 columns]"
      ]
     },
     "execution_count": 43,
     "metadata": {},
     "output_type": "execute_result"
    }
   ],
   "source": [
    "kmf_A_POS.event_table"
   ]
  },
  {
   "cell_type": "code",
   "execution_count": 44,
   "metadata": {},
   "outputs": [
    {
     "data": {
      "text/html": [
       "<div>\n",
       "<style scoped>\n",
       "    .dataframe tbody tr th:only-of-type {\n",
       "        vertical-align: middle;\n",
       "    }\n",
       "\n",
       "    .dataframe tbody tr th {\n",
       "        vertical-align: top;\n",
       "    }\n",
       "\n",
       "    .dataframe thead th {\n",
       "        text-align: right;\n",
       "    }\n",
       "</style>\n",
       "<table border=\"1\" class=\"dataframe\">\n",
       "  <thead>\n",
       "    <tr style=\"text-align: right;\">\n",
       "      <th></th>\n",
       "      <th>removed</th>\n",
       "      <th>observed</th>\n",
       "      <th>censored</th>\n",
       "      <th>entrance</th>\n",
       "      <th>at_risk</th>\n",
       "    </tr>\n",
       "    <tr>\n",
       "      <th>event_at</th>\n",
       "      <th></th>\n",
       "      <th></th>\n",
       "      <th></th>\n",
       "      <th></th>\n",
       "      <th></th>\n",
       "    </tr>\n",
       "  </thead>\n",
       "  <tbody>\n",
       "    <tr>\n",
       "      <th>0</th>\n",
       "      <td>293</td>\n",
       "      <td>0</td>\n",
       "      <td>293</td>\n",
       "      <td>680</td>\n",
       "      <td>680</td>\n",
       "    </tr>\n",
       "    <tr>\n",
       "      <th>56</th>\n",
       "      <td>8</td>\n",
       "      <td>8</td>\n",
       "      <td>0</td>\n",
       "      <td>0</td>\n",
       "      <td>387</td>\n",
       "    </tr>\n",
       "    <tr>\n",
       "      <th>57</th>\n",
       "      <td>1</td>\n",
       "      <td>1</td>\n",
       "      <td>0</td>\n",
       "      <td>0</td>\n",
       "      <td>379</td>\n",
       "    </tr>\n",
       "    <tr>\n",
       "      <th>58</th>\n",
       "      <td>1</td>\n",
       "      <td>1</td>\n",
       "      <td>0</td>\n",
       "      <td>0</td>\n",
       "      <td>378</td>\n",
       "    </tr>\n",
       "    <tr>\n",
       "      <th>63</th>\n",
       "      <td>4</td>\n",
       "      <td>4</td>\n",
       "      <td>0</td>\n",
       "      <td>0</td>\n",
       "      <td>377</td>\n",
       "    </tr>\n",
       "    <tr>\n",
       "      <th>...</th>\n",
       "      <td>...</td>\n",
       "      <td>...</td>\n",
       "      <td>...</td>\n",
       "      <td>...</td>\n",
       "      <td>...</td>\n",
       "    </tr>\n",
       "    <tr>\n",
       "      <th>1504</th>\n",
       "      <td>1</td>\n",
       "      <td>1</td>\n",
       "      <td>0</td>\n",
       "      <td>0</td>\n",
       "      <td>6</td>\n",
       "    </tr>\n",
       "    <tr>\n",
       "      <th>1505</th>\n",
       "      <td>1</td>\n",
       "      <td>1</td>\n",
       "      <td>0</td>\n",
       "      <td>0</td>\n",
       "      <td>5</td>\n",
       "    </tr>\n",
       "    <tr>\n",
       "      <th>1512</th>\n",
       "      <td>2</td>\n",
       "      <td>2</td>\n",
       "      <td>0</td>\n",
       "      <td>0</td>\n",
       "      <td>4</td>\n",
       "    </tr>\n",
       "    <tr>\n",
       "      <th>1519</th>\n",
       "      <td>1</td>\n",
       "      <td>1</td>\n",
       "      <td>0</td>\n",
       "      <td>0</td>\n",
       "      <td>2</td>\n",
       "    </tr>\n",
       "    <tr>\n",
       "      <th>1528</th>\n",
       "      <td>1</td>\n",
       "      <td>1</td>\n",
       "      <td>0</td>\n",
       "      <td>0</td>\n",
       "      <td>1</td>\n",
       "    </tr>\n",
       "  </tbody>\n",
       "</table>\n",
       "<p>318 rows × 5 columns</p>\n",
       "</div>"
      ],
      "text/plain": [
       "          removed  observed  censored  entrance  at_risk\n",
       "event_at                                                \n",
       "0             293         0       293       680      680\n",
       "56              8         8         0         0      387\n",
       "57              1         1         0         0      379\n",
       "58              1         1         0         0      378\n",
       "63              4         4         0         0      377\n",
       "...           ...       ...       ...       ...      ...\n",
       "1504            1         1         0         0        6\n",
       "1505            1         1         0         0        5\n",
       "1512            2         2         0         0        4\n",
       "1519            1         1         0         0        2\n",
       "1528            1         1         0         0        1\n",
       "\n",
       "[318 rows x 5 columns]"
      ]
     },
     "execution_count": 44,
     "metadata": {},
     "output_type": "execute_result"
    }
   ],
   "source": [
    "kmf_AB_POS.event_table"
   ]
  },
  {
   "cell_type": "code",
   "execution_count": 45,
   "metadata": {},
   "outputs": [
    {
     "data": {
      "text/html": [
       "<div>\n",
       "<style scoped>\n",
       "    .dataframe tbody tr th:only-of-type {\n",
       "        vertical-align: middle;\n",
       "    }\n",
       "\n",
       "    .dataframe tbody tr th {\n",
       "        vertical-align: top;\n",
       "    }\n",
       "\n",
       "    .dataframe thead th {\n",
       "        text-align: right;\n",
       "    }\n",
       "</style>\n",
       "<table border=\"1\" class=\"dataframe\">\n",
       "  <thead>\n",
       "    <tr style=\"text-align: right;\">\n",
       "      <th></th>\n",
       "      <th>removed</th>\n",
       "      <th>observed</th>\n",
       "      <th>censored</th>\n",
       "      <th>entrance</th>\n",
       "      <th>at_risk</th>\n",
       "    </tr>\n",
       "    <tr>\n",
       "      <th>event_at</th>\n",
       "      <th></th>\n",
       "      <th></th>\n",
       "      <th></th>\n",
       "      <th></th>\n",
       "      <th></th>\n",
       "    </tr>\n",
       "  </thead>\n",
       "  <tbody>\n",
       "    <tr>\n",
       "      <th>0</th>\n",
       "      <td>90</td>\n",
       "      <td>0</td>\n",
       "      <td>90</td>\n",
       "      <td>313</td>\n",
       "      <td>313</td>\n",
       "    </tr>\n",
       "    <tr>\n",
       "      <th>56</th>\n",
       "      <td>7</td>\n",
       "      <td>7</td>\n",
       "      <td>0</td>\n",
       "      <td>0</td>\n",
       "      <td>223</td>\n",
       "    </tr>\n",
       "    <tr>\n",
       "      <th>58</th>\n",
       "      <td>1</td>\n",
       "      <td>1</td>\n",
       "      <td>0</td>\n",
       "      <td>0</td>\n",
       "      <td>216</td>\n",
       "    </tr>\n",
       "    <tr>\n",
       "      <th>59</th>\n",
       "      <td>1</td>\n",
       "      <td>1</td>\n",
       "      <td>0</td>\n",
       "      <td>0</td>\n",
       "      <td>215</td>\n",
       "    </tr>\n",
       "    <tr>\n",
       "      <th>63</th>\n",
       "      <td>7</td>\n",
       "      <td>7</td>\n",
       "      <td>0</td>\n",
       "      <td>0</td>\n",
       "      <td>214</td>\n",
       "    </tr>\n",
       "    <tr>\n",
       "      <th>...</th>\n",
       "      <td>...</td>\n",
       "      <td>...</td>\n",
       "      <td>...</td>\n",
       "      <td>...</td>\n",
       "      <td>...</td>\n",
       "    </tr>\n",
       "    <tr>\n",
       "      <th>1514</th>\n",
       "      <td>1</td>\n",
       "      <td>1</td>\n",
       "      <td>0</td>\n",
       "      <td>0</td>\n",
       "      <td>5</td>\n",
       "    </tr>\n",
       "    <tr>\n",
       "      <th>1520</th>\n",
       "      <td>1</td>\n",
       "      <td>1</td>\n",
       "      <td>0</td>\n",
       "      <td>0</td>\n",
       "      <td>4</td>\n",
       "    </tr>\n",
       "    <tr>\n",
       "      <th>1533</th>\n",
       "      <td>1</td>\n",
       "      <td>1</td>\n",
       "      <td>0</td>\n",
       "      <td>0</td>\n",
       "      <td>3</td>\n",
       "    </tr>\n",
       "    <tr>\n",
       "      <th>1540</th>\n",
       "      <td>1</td>\n",
       "      <td>1</td>\n",
       "      <td>0</td>\n",
       "      <td>0</td>\n",
       "      <td>2</td>\n",
       "    </tr>\n",
       "    <tr>\n",
       "      <th>1549</th>\n",
       "      <td>1</td>\n",
       "      <td>1</td>\n",
       "      <td>0</td>\n",
       "      <td>0</td>\n",
       "      <td>1</td>\n",
       "    </tr>\n",
       "  </tbody>\n",
       "</table>\n",
       "<p>180 rows × 5 columns</p>\n",
       "</div>"
      ],
      "text/plain": [
       "          removed  observed  censored  entrance  at_risk\n",
       "event_at                                                \n",
       "0              90         0        90       313      313\n",
       "56              7         7         0         0      223\n",
       "58              1         1         0         0      216\n",
       "59              1         1         0         0      215\n",
       "63              7         7         0         0      214\n",
       "...           ...       ...       ...       ...      ...\n",
       "1514            1         1         0         0        5\n",
       "1520            1         1         0         0        4\n",
       "1533            1         1         0         0        3\n",
       "1540            1         1         0         0        2\n",
       "1549            1         1         0         0        1\n",
       "\n",
       "[180 rows x 5 columns]"
      ]
     },
     "execution_count": 45,
     "metadata": {},
     "output_type": "execute_result"
    }
   ],
   "source": [
    "kmf_B_NEG.event_table"
   ]
  },
  {
   "cell_type": "code",
   "execution_count": 46,
   "metadata": {},
   "outputs": [],
   "source": [
    "result = data.groupby(\"survival_time\").agg( Female_survive = (\"donor_sex\", female_don_date),\n",
    "                                            Male_survive = (\"donor_sex\", male_don_date)).reset_index() "
   ]
  },
  {
   "cell_type": "code",
   "execution_count": 47,
   "metadata": {},
   "outputs": [
    {
     "data": {
      "text/html": [
       "<div>\n",
       "<style scoped>\n",
       "    .dataframe tbody tr th:only-of-type {\n",
       "        vertical-align: middle;\n",
       "    }\n",
       "\n",
       "    .dataframe tbody tr th {\n",
       "        vertical-align: top;\n",
       "    }\n",
       "\n",
       "    .dataframe thead th {\n",
       "        text-align: right;\n",
       "    }\n",
       "</style>\n",
       "<table border=\"1\" class=\"dataframe\">\n",
       "  <thead>\n",
       "    <tr style=\"text-align: right;\">\n",
       "      <th></th>\n",
       "      <th>survival_time</th>\n",
       "      <th>Female_survive</th>\n",
       "      <th>Male_survive</th>\n",
       "    </tr>\n",
       "  </thead>\n",
       "  <tbody>\n",
       "    <tr>\n",
       "      <th>0</th>\n",
       "      <td>0</td>\n",
       "      <td>3406</td>\n",
       "      <td>2652</td>\n",
       "    </tr>\n",
       "    <tr>\n",
       "      <th>1</th>\n",
       "      <td>56</td>\n",
       "      <td>124</td>\n",
       "      <td>106</td>\n",
       "    </tr>\n",
       "    <tr>\n",
       "      <th>2</th>\n",
       "      <td>57</td>\n",
       "      <td>13</td>\n",
       "      <td>10</td>\n",
       "    </tr>\n",
       "    <tr>\n",
       "      <th>3</th>\n",
       "      <td>58</td>\n",
       "      <td>9</td>\n",
       "      <td>5</td>\n",
       "    </tr>\n",
       "    <tr>\n",
       "      <th>4</th>\n",
       "      <td>59</td>\n",
       "      <td>5</td>\n",
       "      <td>8</td>\n",
       "    </tr>\n",
       "    <tr>\n",
       "      <th>...</th>\n",
       "      <td>...</td>\n",
       "      <td>...</td>\n",
       "      <td>...</td>\n",
       "    </tr>\n",
       "    <tr>\n",
       "      <th>1470</th>\n",
       "      <td>1548</td>\n",
       "      <td>1</td>\n",
       "      <td>3</td>\n",
       "    </tr>\n",
       "    <tr>\n",
       "      <th>1471</th>\n",
       "      <td>1549</td>\n",
       "      <td>1</td>\n",
       "      <td>2</td>\n",
       "    </tr>\n",
       "    <tr>\n",
       "      <th>1472</th>\n",
       "      <td>1550</td>\n",
       "      <td>1</td>\n",
       "      <td>1</td>\n",
       "    </tr>\n",
       "    <tr>\n",
       "      <th>1473</th>\n",
       "      <td>1554</td>\n",
       "      <td>1</td>\n",
       "      <td>2</td>\n",
       "    </tr>\n",
       "    <tr>\n",
       "      <th>1474</th>\n",
       "      <td>1555</td>\n",
       "      <td>0</td>\n",
       "      <td>1</td>\n",
       "    </tr>\n",
       "  </tbody>\n",
       "</table>\n",
       "<p>1475 rows × 3 columns</p>\n",
       "</div>"
      ],
      "text/plain": [
       "      survival_time  Female_survive  Male_survive\n",
       "0                 0            3406          2652\n",
       "1                56             124           106\n",
       "2                57              13            10\n",
       "3                58               9             5\n",
       "4                59               5             8\n",
       "...             ...             ...           ...\n",
       "1470           1548               1             3\n",
       "1471           1549               1             2\n",
       "1472           1550               1             1\n",
       "1473           1554               1             2\n",
       "1474           1555               0             1\n",
       "\n",
       "[1475 rows x 3 columns]"
      ]
     },
     "execution_count": 47,
     "metadata": {},
     "output_type": "execute_result"
    }
   ],
   "source": [
    "result"
   ]
  },
  {
   "cell_type": "code",
   "execution_count": 48,
   "metadata": {},
   "outputs": [],
   "source": [
    "result = result[result[\"survival_time\"]!= 0]"
   ]
  },
  {
   "cell_type": "code",
   "execution_count": 49,
   "metadata": {},
   "outputs": [
    {
     "data": {
      "text/html": [
       "<div>\n",
       "<style scoped>\n",
       "    .dataframe tbody tr th:only-of-type {\n",
       "        vertical-align: middle;\n",
       "    }\n",
       "\n",
       "    .dataframe tbody tr th {\n",
       "        vertical-align: top;\n",
       "    }\n",
       "\n",
       "    .dataframe thead th {\n",
       "        text-align: right;\n",
       "    }\n",
       "</style>\n",
       "<table border=\"1\" class=\"dataframe\">\n",
       "  <thead>\n",
       "    <tr style=\"text-align: right;\">\n",
       "      <th></th>\n",
       "      <th>survival_time</th>\n",
       "      <th>Female_survive</th>\n",
       "      <th>Male_survive</th>\n",
       "    </tr>\n",
       "  </thead>\n",
       "  <tbody>\n",
       "    <tr>\n",
       "      <th>1</th>\n",
       "      <td>56</td>\n",
       "      <td>124</td>\n",
       "      <td>106</td>\n",
       "    </tr>\n",
       "    <tr>\n",
       "      <th>2</th>\n",
       "      <td>57</td>\n",
       "      <td>13</td>\n",
       "      <td>10</td>\n",
       "    </tr>\n",
       "    <tr>\n",
       "      <th>3</th>\n",
       "      <td>58</td>\n",
       "      <td>9</td>\n",
       "      <td>5</td>\n",
       "    </tr>\n",
       "    <tr>\n",
       "      <th>4</th>\n",
       "      <td>59</td>\n",
       "      <td>5</td>\n",
       "      <td>8</td>\n",
       "    </tr>\n",
       "    <tr>\n",
       "      <th>5</th>\n",
       "      <td>60</td>\n",
       "      <td>9</td>\n",
       "      <td>11</td>\n",
       "    </tr>\n",
       "    <tr>\n",
       "      <th>...</th>\n",
       "      <td>...</td>\n",
       "      <td>...</td>\n",
       "      <td>...</td>\n",
       "    </tr>\n",
       "    <tr>\n",
       "      <th>1470</th>\n",
       "      <td>1548</td>\n",
       "      <td>1</td>\n",
       "      <td>3</td>\n",
       "    </tr>\n",
       "    <tr>\n",
       "      <th>1471</th>\n",
       "      <td>1549</td>\n",
       "      <td>1</td>\n",
       "      <td>2</td>\n",
       "    </tr>\n",
       "    <tr>\n",
       "      <th>1472</th>\n",
       "      <td>1550</td>\n",
       "      <td>1</td>\n",
       "      <td>1</td>\n",
       "    </tr>\n",
       "    <tr>\n",
       "      <th>1473</th>\n",
       "      <td>1554</td>\n",
       "      <td>1</td>\n",
       "      <td>2</td>\n",
       "    </tr>\n",
       "    <tr>\n",
       "      <th>1474</th>\n",
       "      <td>1555</td>\n",
       "      <td>0</td>\n",
       "      <td>1</td>\n",
       "    </tr>\n",
       "  </tbody>\n",
       "</table>\n",
       "<p>1474 rows × 3 columns</p>\n",
       "</div>"
      ],
      "text/plain": [
       "      survival_time  Female_survive  Male_survive\n",
       "1                56             124           106\n",
       "2                57              13            10\n",
       "3                58               9             5\n",
       "4                59               5             8\n",
       "5                60               9            11\n",
       "...             ...             ...           ...\n",
       "1470           1548               1             3\n",
       "1471           1549               1             2\n",
       "1472           1550               1             1\n",
       "1473           1554               1             2\n",
       "1474           1555               0             1\n",
       "\n",
       "[1474 rows x 3 columns]"
      ]
     },
     "execution_count": 49,
     "metadata": {},
     "output_type": "execute_result"
    }
   ],
   "source": [
    "result"
   ]
  },
  {
   "cell_type": "code",
   "execution_count": 50,
   "metadata": {},
   "outputs": [
    {
     "name": "stderr",
     "output_type": "stream",
     "text": [
      "<ipython-input-50-eb2fbd3312a6>:1: SettingWithCopyWarning: \n",
      "A value is trying to be set on a copy of a slice from a DataFrame.\n",
      "Try using .loc[row_indexer,col_indexer] = value instead\n",
      "\n",
      "See the caveats in the documentation: https://pandas.pydata.org/pandas-docs/stable/user_guide/indexing.html#returning-a-view-versus-a-copy\n",
      "  result[\"Female_prop\"] = result[\"Female_survive\"]/ (result[\"Female_survive\"]+ result[\"Male_survive\"])\n",
      "<ipython-input-50-eb2fbd3312a6>:2: SettingWithCopyWarning: \n",
      "A value is trying to be set on a copy of a slice from a DataFrame.\n",
      "Try using .loc[row_indexer,col_indexer] = value instead\n",
      "\n",
      "See the caveats in the documentation: https://pandas.pydata.org/pandas-docs/stable/user_guide/indexing.html#returning-a-view-versus-a-copy\n",
      "  result[\"Male_prop\"] = 1- result[\"Female_prop\"]\n"
     ]
    },
    {
     "data": {
      "text/html": [
       "<div>\n",
       "<style scoped>\n",
       "    .dataframe tbody tr th:only-of-type {\n",
       "        vertical-align: middle;\n",
       "    }\n",
       "\n",
       "    .dataframe tbody tr th {\n",
       "        vertical-align: top;\n",
       "    }\n",
       "\n",
       "    .dataframe thead th {\n",
       "        text-align: right;\n",
       "    }\n",
       "</style>\n",
       "<table border=\"1\" class=\"dataframe\">\n",
       "  <thead>\n",
       "    <tr style=\"text-align: right;\">\n",
       "      <th></th>\n",
       "      <th>survival_time</th>\n",
       "      <th>Female_survive</th>\n",
       "      <th>Male_survive</th>\n",
       "      <th>Female_prop</th>\n",
       "      <th>Male_prop</th>\n",
       "    </tr>\n",
       "  </thead>\n",
       "  <tbody>\n",
       "    <tr>\n",
       "      <th>1</th>\n",
       "      <td>56</td>\n",
       "      <td>124</td>\n",
       "      <td>106</td>\n",
       "      <td>0.539130</td>\n",
       "      <td>0.460870</td>\n",
       "    </tr>\n",
       "    <tr>\n",
       "      <th>2</th>\n",
       "      <td>57</td>\n",
       "      <td>13</td>\n",
       "      <td>10</td>\n",
       "      <td>0.565217</td>\n",
       "      <td>0.434783</td>\n",
       "    </tr>\n",
       "    <tr>\n",
       "      <th>3</th>\n",
       "      <td>58</td>\n",
       "      <td>9</td>\n",
       "      <td>5</td>\n",
       "      <td>0.642857</td>\n",
       "      <td>0.357143</td>\n",
       "    </tr>\n",
       "    <tr>\n",
       "      <th>4</th>\n",
       "      <td>59</td>\n",
       "      <td>5</td>\n",
       "      <td>8</td>\n",
       "      <td>0.384615</td>\n",
       "      <td>0.615385</td>\n",
       "    </tr>\n",
       "    <tr>\n",
       "      <th>5</th>\n",
       "      <td>60</td>\n",
       "      <td>9</td>\n",
       "      <td>11</td>\n",
       "      <td>0.450000</td>\n",
       "      <td>0.550000</td>\n",
       "    </tr>\n",
       "    <tr>\n",
       "      <th>...</th>\n",
       "      <td>...</td>\n",
       "      <td>...</td>\n",
       "      <td>...</td>\n",
       "      <td>...</td>\n",
       "      <td>...</td>\n",
       "    </tr>\n",
       "    <tr>\n",
       "      <th>1470</th>\n",
       "      <td>1548</td>\n",
       "      <td>1</td>\n",
       "      <td>3</td>\n",
       "      <td>0.250000</td>\n",
       "      <td>0.750000</td>\n",
       "    </tr>\n",
       "    <tr>\n",
       "      <th>1471</th>\n",
       "      <td>1549</td>\n",
       "      <td>1</td>\n",
       "      <td>2</td>\n",
       "      <td>0.333333</td>\n",
       "      <td>0.666667</td>\n",
       "    </tr>\n",
       "    <tr>\n",
       "      <th>1472</th>\n",
       "      <td>1550</td>\n",
       "      <td>1</td>\n",
       "      <td>1</td>\n",
       "      <td>0.500000</td>\n",
       "      <td>0.500000</td>\n",
       "    </tr>\n",
       "    <tr>\n",
       "      <th>1473</th>\n",
       "      <td>1554</td>\n",
       "      <td>1</td>\n",
       "      <td>2</td>\n",
       "      <td>0.333333</td>\n",
       "      <td>0.666667</td>\n",
       "    </tr>\n",
       "    <tr>\n",
       "      <th>1474</th>\n",
       "      <td>1555</td>\n",
       "      <td>0</td>\n",
       "      <td>1</td>\n",
       "      <td>0.000000</td>\n",
       "      <td>1.000000</td>\n",
       "    </tr>\n",
       "  </tbody>\n",
       "</table>\n",
       "<p>1474 rows × 5 columns</p>\n",
       "</div>"
      ],
      "text/plain": [
       "      survival_time  Female_survive  Male_survive  Female_prop  Male_prop\n",
       "1                56             124           106     0.539130   0.460870\n",
       "2                57              13            10     0.565217   0.434783\n",
       "3                58               9             5     0.642857   0.357143\n",
       "4                59               5             8     0.384615   0.615385\n",
       "5                60               9            11     0.450000   0.550000\n",
       "...             ...             ...           ...          ...        ...\n",
       "1470           1548               1             3     0.250000   0.750000\n",
       "1471           1549               1             2     0.333333   0.666667\n",
       "1472           1550               1             1     0.500000   0.500000\n",
       "1473           1554               1             2     0.333333   0.666667\n",
       "1474           1555               0             1     0.000000   1.000000\n",
       "\n",
       "[1474 rows x 5 columns]"
      ]
     },
     "execution_count": 50,
     "metadata": {},
     "output_type": "execute_result"
    }
   ],
   "source": [
    "result[\"Female_prop\"] = result[\"Female_survive\"]/ (result[\"Female_survive\"]+ result[\"Male_survive\"])\n",
    "result[\"Male_prop\"] = 1- result[\"Female_prop\"]\n",
    "survival_rate = result\n",
    "survival_rate"
   ]
  },
  {
   "cell_type": "code",
   "execution_count": 51,
   "metadata": {},
   "outputs": [
    {
     "data": {
      "text/html": [
       "<div>\n",
       "<style scoped>\n",
       "    .dataframe tbody tr th:only-of-type {\n",
       "        vertical-align: middle;\n",
       "    }\n",
       "\n",
       "    .dataframe tbody tr th {\n",
       "        vertical-align: top;\n",
       "    }\n",
       "\n",
       "    .dataframe thead th {\n",
       "        text-align: right;\n",
       "    }\n",
       "</style>\n",
       "<table border=\"1\" class=\"dataframe\">\n",
       "  <thead>\n",
       "    <tr style=\"text-align: right;\">\n",
       "      <th></th>\n",
       "      <th>survival_time</th>\n",
       "      <th>Female_survive</th>\n",
       "      <th>Male_survive</th>\n",
       "      <th>Female_prop</th>\n",
       "      <th>Male_prop</th>\n",
       "    </tr>\n",
       "  </thead>\n",
       "  <tbody>\n",
       "    <tr>\n",
       "      <th>930</th>\n",
       "      <td>1000</td>\n",
       "      <td>5</td>\n",
       "      <td>4</td>\n",
       "      <td>0.555556</td>\n",
       "      <td>0.444444</td>\n",
       "    </tr>\n",
       "  </tbody>\n",
       "</table>\n",
       "</div>"
      ],
      "text/plain": [
       "     survival_time  Female_survive  Male_survive  Female_prop  Male_prop\n",
       "930           1000               5             4     0.555556   0.444444"
      ]
     },
     "execution_count": 51,
     "metadata": {},
     "output_type": "execute_result"
    }
   ],
   "source": [
    "retention_rate = result[result[\"survival_time\"] == 1000]\n",
    "retention_rate"
   ]
  },
  {
   "cell_type": "code",
   "execution_count": null,
   "metadata": {},
   "outputs": [],
   "source": []
  },
  {
   "cell_type": "code",
   "execution_count": null,
   "metadata": {},
   "outputs": [],
   "source": []
  },
  {
   "cell_type": "code",
   "execution_count": null,
   "metadata": {},
   "outputs": [],
   "source": [
    "\n"
   ]
  },
  {
   "cell_type": "code",
   "execution_count": null,
   "metadata": {},
   "outputs": [],
   "source": []
  },
  {
   "cell_type": "code",
   "execution_count": null,
   "metadata": {},
   "outputs": [],
   "source": []
  },
  {
   "cell_type": "code",
   "execution_count": null,
   "metadata": {},
   "outputs": [],
   "source": []
  },
  {
   "cell_type": "code",
   "execution_count": null,
   "metadata": {},
   "outputs": [],
   "source": []
  },
  {
   "cell_type": "code",
   "execution_count": null,
   "metadata": {},
   "outputs": [],
   "source": []
  }
 ],
 "metadata": {
  "kernelspec": {
   "display_name": "Python 3",
   "language": "python",
   "name": "python3"
  },
  "language_info": {
   "codemirror_mode": {
    "name": "ipython",
    "version": 3
   },
   "file_extension": ".py",
   "mimetype": "text/x-python",
   "name": "python",
   "nbconvert_exporter": "python",
   "pygments_lexer": "ipython3",
   "version": "3.8.5"
  }
 },
 "nbformat": 4,
 "nbformat_minor": 4
}
